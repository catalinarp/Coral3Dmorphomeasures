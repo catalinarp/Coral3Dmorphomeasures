{
 "cells": [
  {
   "cell_type": "markdown",
   "id": "tutorial-sellers",
   "metadata": {},
   "source": [
    "# 3D based measure extraction\n",
    "\n",
    "This notebook provides an example how the measures as described in [1] can be extracted from a polygon mesh (.vtk) with the provided software in this folder. "
   ]
  },
  {
   "cell_type": "code",
   "execution_count": 1,
   "id": "serial-undergraduate",
   "metadata": {},
   "outputs": [],
   "source": [
    "from helpers import load_data, stats\n",
    "import matplotlib.pyplot as plt\n",
    "\n",
    "coral_name = '15Oki03'\n"
   ]
  },
  {
   "cell_type": "markdown",
   "id": "aquatic-thirty",
   "metadata": {},
   "source": [
    "## Polygon mesh-based measures\n",
    "\n",
    "From the polygon mesh the surface-area-to-volume ratio ($S/V$-ratio) and sphericity ($\\phi$) are derived as single variables. In addition, surface curvature measures are obtained per vertex."
   ]
  },
  {
   "cell_type": "code",
   "execution_count": 2,
   "id": "veterinary-struggle",
   "metadata": {},
   "outputs": [],
   "source": [
    "from polygon_mesh_based import surface_volume, curvature"
   ]
  },
  {
   "cell_type": "code",
   "execution_count": 3,
   "id": "retired-howard",
   "metadata": {},
   "outputs": [],
   "source": [
    "polygon_mesh = load_data.readVTK(coral_name)"
   ]
  },
  {
   "cell_type": "markdown",
   "id": "molecular-subject",
   "metadata": {},
   "source": [
    "### $S/V$-ratio and $\\phi$"
   ]
  },
  {
   "cell_type": "code",
   "execution_count": null,
   "id": "printable-iceland",
   "metadata": {},
   "outputs": [],
   "source": [
    "surf_vol_measures = surface_volume.getSurfaceVolumeMeasures(polygon_mesh)\n",
    "\n",
    "print(f\"S/V-ratio:   {surf_vol_measures['SV_ratio']}\")\n",
    "print(f\"sphericity:  {surf_vol_measures['sphericity']}\")"
   ]
  },
  {
   "cell_type": "markdown",
   "id": "artistic-aurora",
   "metadata": {},
   "source": [
    "### Curvature"
   ]
  },
  {
   "cell_type": "code",
   "execution_count": 8,
   "id": "complimentary-blake",
   "metadata": {},
   "outputs": [
    {
     "name": "stdout",
     "output_type": "stream",
     "text": [
      "0\n",
      "100000\n",
      "200000\n",
      "300000\n",
      "400000\n",
      "500000\n",
      "600000\n",
      "700000\n",
      "800000\n",
      "900000\n",
      "1000000\n",
      "1100000\n",
      "1200000\n",
      "1300000\n",
      "1400000\n",
      "1500000\n"
     ]
    }
   ],
   "source": [
    "# obtain curvature values\n",
    "curvature_measures = curvature.getCurvature(polygon_mesh)"
   ]
  },
  {
   "cell_type": "code",
   "execution_count": null,
   "id": "assigned-sharing",
   "metadata": {},
   "outputs": [],
   "source": [
    "# print curvature arrays\n",
    "print(f\"K:  {curvature_measures['Gauss']}\")\n",
    "print(f\"H:  {curvature_measures['Mean']}\")\n",
    "print(f\"k1: {curvature_measures['Maximum']}\")\n",
    "print(f\"k2: {curvature_measures['Minimum']}\")"
   ]
  },
  {
   "cell_type": "code",
   "execution_count": null,
   "id": "facial-excuse",
   "metadata": {},
   "outputs": [],
   "source": [
    "# get distribution characteristics (example Gaussian curvature)\n",
    "example_data = curvature_measures['Gauss']\n",
    "\n",
    "# plot distribution\n",
    "plt.figure(figsize=(8,7))\n",
    "plt.grid()\n",
    "plt.hist(example_data, bins = 200, density=True, range = (-400,400),weights=curvature_measures['areas'])\n",
    "plt.xlim((-400,400))\n",
    "plt.xlabel(r'$K$ ($cm^{-2}$)')\n",
    "plt.ylabel('fraction of surface')\n",
    "plt.show()"
   ]
  },
  {
   "cell_type": "code",
   "execution_count": null,
   "id": "interracial-sarah",
   "metadata": {},
   "outputs": [],
   "source": [
    "# distribution characteristics\n",
    "distr = stats.getDistributionCharactertics(example_data, weighted=True, weights = curvature_measures['areas'])\n",
    "print(distr)\n",
    "print(f\"K_mean: {distr['mean']}\")\n",
    "print(f\"K_var:  {distr['variance']}\")\n",
    "print(f\"K_skew: {distr['skewness']}\")\n",
    "print(f\"K_kurt: {distr['kurtosis']}\")"
   ]
  },
  {
   "cell_type": "markdown",
   "id": "religious-patrick",
   "metadata": {},
   "source": [
    "## Medial axis skeleton-derived measures "
   ]
  },
  {
   "cell_type": "markdown",
   "id": "celtic-circuit",
   "metadata": {},
   "source": [
    "### Skeletonization\n",
    "First the polygon mesh is transformed into a medial axis skeleton. First the mesh is smoothened"
   ]
  },
  {
   "cell_type": "code",
   "execution_count": null,
   "id": "visible-transformation",
   "metadata": {},
   "outputs": [],
   "source": []
  },
  {
   "cell_type": "code",
   "execution_count": 4,
   "id": "abstract-young",
   "metadata": {},
   "outputs": [],
   "source": [
    "from helpers import local_directories as ldir\n",
    "\n",
    "# read skeleton from data\n",
    "poly_line = load_data.readVTK(coral_name, ldir.LINE)"
   ]
  },
  {
   "cell_type": "markdown",
   "id": "editorial-accuracy",
   "metadata": {},
   "source": [
    "### Branch length, brancing rate, branch spacing"
   ]
  },
  {
   "cell_type": "code",
   "execution_count": null,
   "id": "respected-beginning",
   "metadata": {},
   "outputs": [],
   "source": [
    "from Medial_axis_skeleton_based import skeleton_distances"
   ]
  },
  {
   "cell_type": "code",
   "execution_count": null,
   "id": "crazy-college",
   "metadata": {},
   "outputs": [],
   "source": [
    "distance_measures = skeleton_distances.getSkeletonDistances(poly_line)"
   ]
  },
  {
   "cell_type": "code",
   "execution_count": null,
   "id": "variable-tobago",
   "metadata": {},
   "outputs": [],
   "source": [
    "# example of getting branch length mean and variance (could be replaced by br_rate)\n",
    "\n",
    "example_metric = 'br_length'\n",
    "example_data = distance_measures[example_metric]\n",
    "selection = distance_measures['long_enough']\n",
    "\n",
    "distr = stats.getDistributionCharactertics(example_data, perc_or_z = 'Z', selection=selection)\n",
    "print(f\"{example_metric}_mean: {distr['mean']}\")\n",
    "print(f\"{example_metric}_var:  {distr['variance']}\")"
   ]
  },
  {
   "cell_type": "code",
   "execution_count": null,
   "id": "vocational-potato",
   "metadata": {},
   "outputs": [],
   "source": [
    "# example of getting branch spacing v1 mean and variance (could be replaced by v2)\n",
    "example_metric ='br_spacing_v1'\n",
    "example_data = distance_measures[example_metric]\n",
    "distr = stats.getDistributionCharactertics(example_data, perc_or_z = 'Z')\n",
    "print(f\"{example_metric}_mean: {distr['mean']}\")\n",
    "print(f\"{example_metric}_var:  {distr['variance']}\")"
   ]
  },
  {
   "cell_type": "markdown",
   "id": "educated-remains",
   "metadata": {},
   "source": [
    "## Polygon mesh and medial axis skeleton measures"
   ]
  },
  {
   "cell_type": "markdown",
   "id": "collectible-bronze",
   "metadata": {},
   "source": [
    "### Branch width and angles\n",
    "Branch width ($br_{width}$) at the base ($da$), the midsection ($db$), the terminal end points ($dc$) and the branch angle ($br_{angle}$)"
   ]
  },
  {
   "cell_type": "code",
   "execution_count": 3,
   "id": "acoustic-turtle",
   "metadata": {},
   "outputs": [],
   "source": [
    "from polygon_mesh_medial_skeleton_based import skel_thickness"
   ]
  },
  {
   "cell_type": "code",
   "execution_count": 4,
   "id": "invisible-glance",
   "metadata": {},
   "outputs": [],
   "source": [
    "thickness_measures = skel_thickness.getBranchWidthAndAngles(poly_line)"
   ]
  },
  {
   "cell_type": "code",
   "execution_count": 8,
   "id": "green-stand",
   "metadata": {},
   "outputs": [
    {
     "name": "stdout",
     "output_type": "stream",
     "text": [
      "angle_mean: 1.3478755179975193\n",
      "angle_var:  0.10313908631070075\n"
     ]
    }
   ],
   "source": [
    "# example da (could be replaced by db, dc or angle)\n",
    "example_metric = 'angle'\n",
    "example_data = thickness_measures[example_metric]\n",
    "\n",
    "distr = stats.getDistributionCharactertics(example_data, perc_or_z = 'Z')\n",
    "print(f\"{example_metric}_mean: {distr['mean']}\")\n",
    "print(f\"{example_metric}_var:  {distr['variance']}\")"
   ]
  },
  {
   "cell_type": "markdown",
   "id": "stretch-effect",
   "metadata": {},
   "source": [
    "### Average branch width"
   ]
  },
  {
   "cell_type": "code",
   "execution_count": 10,
   "id": "magnetic-employment",
   "metadata": {},
   "outputs": [],
   "source": [
    "from polygon_mesh_medial_skeleton_based import basic_skeleton_measures"
   ]
  },
  {
   "cell_type": "code",
   "execution_count": 13,
   "id": "orange-entry",
   "metadata": {},
   "outputs": [
    {
     "data": {
      "text/plain": [
       "dict_keys(['junctions', 'end_points', 'end_branches', 'merge_ids', 'medial_thickness', 'min_thick', 'max_thick', 'avg_thick', 'root_point', 'root_branch'])"
      ]
     },
     "execution_count": 13,
     "metadata": {},
     "output_type": "execute_result"
    }
   ],
   "source": [
    "basic_measures = basic_skeleton_measures.getBasicSkelMeasures(poly_line)"
   ]
  },
  {
   "cell_type": "code",
   "execution_count": 15,
   "id": "orange-uganda",
   "metadata": {},
   "outputs": [
    {
     "name": "stdout",
     "output_type": "stream",
     "text": [
      "d_avg_mean: 0.5044983155849404\n",
      "d_avg_var:  0.037400902761894006\n"
     ]
    }
   ],
   "source": [
    "d_avg = basic_measures['avg_thick']\n",
    "\n",
    "distr = stats.getDistributionCharactertics(d_avg, perc_or_z = 'Z')\n",
    "print(f\"d_avg_mean: {distr['mean']}\")\n",
    "print(f\"d_avg_var:  {distr['variance']}\")"
   ]
  },
  {
   "cell_type": "markdown",
   "id": "internal-desktop",
   "metadata": {},
   "source": [
    "### end curvature"
   ]
  },
  {
   "cell_type": "code",
   "execution_count": 23,
   "id": "pretty-martial",
   "metadata": {},
   "outputs": [],
   "source": [
    "from polygon_mesh_medial_skeleton_based import polydata_endpoints\n",
    "from polygon_mesh_medial_skeleton_based import end_curvature"
   ]
  },
  {
   "cell_type": "code",
   "execution_count": 22,
   "id": "compatible-minimum",
   "metadata": {},
   "outputs": [],
   "source": [
    "end_points = polydata_endpoints.getEndPointsPolyData(polygon_mesh, poly_line)\n"
   ]
  },
  {
   "cell_type": "code",
   "execution_count": 24,
   "id": "golden-tablet",
   "metadata": {},
   "outputs": [
    {
     "ename": "IndexError",
     "evalue": "only integers, slices (`:`), ellipsis (`...`), numpy.newaxis (`None`) and integer or boolean arrays are valid indices",
     "output_type": "error",
     "traceback": [
      "\u001b[0;31m---------------------------------------------------------------------------\u001b[0m",
      "\u001b[0;31mIndexError\u001b[0m                                Traceback (most recent call last)",
      "\u001b[0;32m<ipython-input-24-d5a0b59645bc>\u001b[0m in \u001b[0;36m<module>\u001b[0;34m\u001b[0m\n\u001b[0;32m----> 1\u001b[0;31m \u001b[0mend_curv\u001b[0m \u001b[0;34m=\u001b[0m \u001b[0mend_curvature\u001b[0m\u001b[0;34m.\u001b[0m\u001b[0mgetEndCurvature\u001b[0m\u001b[0;34m(\u001b[0m\u001b[0mcurvature_measures\u001b[0m\u001b[0;34m,\u001b[0m \u001b[0mend_points\u001b[0m\u001b[0;34m,\u001b[0m \u001b[0;34m'Gauss'\u001b[0m\u001b[0;34m)\u001b[0m\u001b[0;34m\u001b[0m\u001b[0;34m\u001b[0m\u001b[0m\n\u001b[0m",
      "\u001b[0;32m~/Documents/paper_code/Coral3Dmorphomeasures/3D_based_measures_estimation/polygon_mesh_medial_skeleton_based/end_curvature.py\u001b[0m in \u001b[0;36mgetEndCurvature\u001b[0;34m(curvature, end_points, measure)\u001b[0m\n\u001b[1;32m      1\u001b[0m \u001b[0;32mdef\u001b[0m \u001b[0mgetEndCurvature\u001b[0m\u001b[0;34m(\u001b[0m\u001b[0mcurvature\u001b[0m\u001b[0;34m,\u001b[0m \u001b[0mend_points\u001b[0m\u001b[0;34m,\u001b[0m \u001b[0mmeasure\u001b[0m \u001b[0;34m=\u001b[0m \u001b[0;34m'gauss'\u001b[0m\u001b[0;34m)\u001b[0m\u001b[0;34m:\u001b[0m\u001b[0;34m\u001b[0m\u001b[0;34m\u001b[0m\u001b[0m\n\u001b[0;32m----> 2\u001b[0;31m         \u001b[0;32mreturn\u001b[0m \u001b[0mcurvature\u001b[0m\u001b[0;34m[\u001b[0m\u001b[0mmeasure\u001b[0m\u001b[0;34m]\u001b[0m\u001b[0;34m[\u001b[0m\u001b[0mend_points\u001b[0m\u001b[0;34m[\u001b[0m\u001b[0;34m'point_ids'\u001b[0m\u001b[0;34m]\u001b[0m\u001b[0;34m]\u001b[0m\u001b[0;34m\u001b[0m\u001b[0;34m\u001b[0m\u001b[0m\n\u001b[0m",
      "\u001b[0;31mIndexError\u001b[0m: only integers, slices (`:`), ellipsis (`...`), numpy.newaxis (`None`) and integer or boolean arrays are valid indices"
     ]
    }
   ],
   "source": [
    "end_curv = end_curvature.getEndCurvature(curvature_measures, end_points, 'Gauss')"
   ]
  },
  {
   "cell_type": "code",
   "execution_count": 20,
   "id": "disciplinary-killer",
   "metadata": {},
   "outputs": [
    {
     "name": "stdout",
     "output_type": "stream",
     "text": [
      "[]\n"
     ]
    }
   ],
   "source": []
  },
  {
   "cell_type": "code",
   "execution_count": null,
   "id": "classical-outreach",
   "metadata": {},
   "outputs": [],
   "source": []
  }
 ],
 "metadata": {
  "kernelspec": {
   "display_name": "Python 3",
   "language": "python",
   "name": "python3"
  },
  "language_info": {
   "codemirror_mode": {
    "name": "ipython",
    "version": 3
   },
   "file_extension": ".py",
   "mimetype": "text/x-python",
   "name": "python",
   "nbconvert_exporter": "python",
   "pygments_lexer": "ipython3",
   "version": "3.8.10"
  }
 },
 "nbformat": 4,
 "nbformat_minor": 5
}
