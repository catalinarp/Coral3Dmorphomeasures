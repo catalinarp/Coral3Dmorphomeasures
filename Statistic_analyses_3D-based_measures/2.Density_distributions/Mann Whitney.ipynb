{
 "cells": [
  {
   "cell_type": "code",
   "execution_count": null,
   "id": "earned-despite",
   "metadata": {},
   "outputs": [],
   "source": [
    "import numpy as np\n",
    "import scipy.stats as spy\n",
    "import pandas as pd\n",
    "import copy\n",
    "from ..helpers import load_data\n",
    "from ..helpers import local_directories as ldir"
   ]
  },
  {
   "cell_type": "code",
   "execution_count": null,
   "id": "fatty-freight",
   "metadata": {},
   "outputs": [],
   "source": []
  },
  {
   "cell_type": "code",
   "execution_count": null,
   "id": "significant-breakdown",
   "metadata": {},
   "outputs": [],
   "source": [
    "def getAll(measure_array,id_name):\n",
    "    return measure_array\n",
    "\n",
    "def getSelection(measure_array, id_name, selection):\n",
    "    ids = selection[id_name]\n",
    "    return measure_array[ids]\n",
    "\n",
    "def getPerc(measure_array, id_name,perc=2.5):\n",
    "    min_s = np.percentile(measure_array,perc)\n",
    "    max_s = np.percentile(measure_array,100-perc)\n",
    "    return measure_array[(measure_array > min_s) & (measure_array < max_s)]\n",
    "\n",
    "def getZ(measure_array, id_name, SD=3):\n",
    "    Z = np.abs((measure_array - np.mean(measure_array))/np.std(measure_array))\n",
    "    return measure_array[Z < SD]\n",
    "\n",
    "def getSample(measure_array, n=10000):\n",
    "    data = np.random.choice(measure_array, size=n, replace=True)\n",
    "    return data\n",
    "\n",
    "def getMannWhit(input_data, ids, measure_name,get_func=getAll, sample_size = None, **kwargs):\n",
    "    \n",
    "    size = len(ids)\n",
    "    data_array = list()\n",
    "    num_vals = np.zeros(size,dtype=int)\n",
    "    for i in range(size):\n",
    "        samp = ids[i]\n",
    "        \n",
    "        data_raw = input_data[samp][measure_name]\n",
    "        data = get_func(data_raw,samp,**kwargs)\n",
    "        if sample_size:\n",
    "            data = getSample(data, sample_size)\n",
    "        data_array.append(copy.deepcopy(data))\n",
    "        num_vals[i] = len(data)\n",
    "    stat_arr, pval_arr = calcMannWhitArray(data_array, size)\n",
    "    return {'statistic':stat_arr, 'p-values': pval_arr, 'sizes': num_vals}\n",
    "\n",
    "def calcMannWhitArray(data_arrays, size):\n",
    "\n",
    "    stat_arr = np.zeros((size,size))\n",
    "    pval_arr = np.zeros((size,size))\n",
    "    for i in range(size):\n",
    "        d1 = data_arrays[i]\n",
    "        stat_arr[i,i], pval_arr[i,i] = spy.ks_2samp(d1,d1)\n",
    "        for j in range(size):\n",
    "            if j > i:\n",
    "                stat, pval = spy.mannwhitneyu(d1, data_arrays[j])\n",
    "                stat_arr[i,j] = stat\n",
    "                stat_arr[j,i] = stat\n",
    "                pval_arr[i,j] = pval\n",
    "                pval_arr[j,i] = pval\n",
    "            \n",
    "    return stat_arr, pval_arr\n",
    "\n",
    "\n",
    "def getKeys(data):\n",
    "    for coral in data:\n",
    "        data_arr = data[coral]\n",
    "        keys = list()\n",
    "        for key in data_arr:\n",
    "            numbers = data_arr[key]\n",
    "            if len(numbers.shape) == 1 and isinstance(numbers[0], float):\n",
    "                keys.append(key)\n",
    "        return keys\n",
    "\n",
    "    "
   ]
  },
  {
   "cell_type": "code",
   "execution_count": null,
   "id": "excited-strength",
   "metadata": {},
   "outputs": [],
   "source": [
    "species_info = pd.read_csv(f'{ldir.DIR_DATA}/species_info_v1.csv')\n",
    "species_info = species_info.sort_values(by='Morphospecies')\n",
    "ids = list(species_info['Sample ID'])\n",
    "del species_info"
   ]
  },
  {
   "cell_type": "code",
   "execution_count": null,
   "id": "applicable-brunei",
   "metadata": {},
   "outputs": [],
   "source": [
    "def prepareSelection(fn_selection, selection_name, ids):\n",
    "    selection = load_data.readPickle(fn_selection)\n",
    "    selection_dict = {}\n",
    "    for coral_id in ids:\n",
    "        selection_dict[coral_id] = selection[coral_id][selection_name]\n",
    "    return selection_dict\n",
    "        \n",
    "    "
   ]
  },
  {
   "cell_type": "code",
   "execution_count": null,
   "id": "legitimate-meaning",
   "metadata": {},
   "outputs": [],
   "source": []
  },
  {
   "cell_type": "code",
   "execution_count": null,
   "id": "played-charm",
   "metadata": {},
   "outputs": [],
   "source": [
    "import pandas as pd\n",
    "import matplotlib.pyplot as plt\n",
    "import seaborn as sns\n",
    "from matplotlib.colors import LogNorm"
   ]
  },
  {
   "cell_type": "code",
   "execution_count": null,
   "id": "advised-banking",
   "metadata": {},
   "outputs": [],
   "source": []
  },
  {
   "cell_type": "markdown",
   "id": "level-keeping",
   "metadata": {},
   "source": [
    "# Example"
   ]
  },
  {
   "cell_type": "code",
   "execution_count": null,
   "id": "completed-italic",
   "metadata": {},
   "outputs": [],
   "source": [
    "ks_measures = {}\n",
    "n_sample = 1000\n",
    "data = load_data.readPickle('curvatures.pickle')\n",
    "\n",
    "measure = 'Gauss'\n",
    "ks_test = getMannWhit(data,ids,key, sample_size=n_sample)\n",
    "print(ks_test['p-values'])\n",
    "print(ks_test['statistic'])\n"
   ]
  },
  {
   "cell_type": "code",
   "execution_count": null,
   "id": "derived-dialogue",
   "metadata": {},
   "outputs": [],
   "source": [
    "\n"
   ]
  },
  {
   "cell_type": "code",
   "execution_count": null,
   "id": "accessible-march",
   "metadata": {},
   "outputs": [],
   "source": []
  }
 ],
 "metadata": {
  "kernelspec": {
   "display_name": "Python 3",
   "language": "python",
   "name": "python3"
  },
  "language_info": {
   "codemirror_mode": {
    "name": "ipython",
    "version": 3
   },
   "file_extension": ".py",
   "mimetype": "text/x-python",
   "name": "python",
   "nbconvert_exporter": "python",
   "pygments_lexer": "ipython3",
   "version": "3.8.10"
  }
 },
 "nbformat": 4,
 "nbformat_minor": 5
}
