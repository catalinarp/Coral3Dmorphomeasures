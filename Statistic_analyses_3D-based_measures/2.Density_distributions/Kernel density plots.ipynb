{
 "cells": [
  {
   "cell_type": "code",
   "execution_count": null,
   "id": "attended-region",
   "metadata": {},
   "outputs": [],
   "source": [
    "import numpy as np\n",
    "import seaborn as sns\n",
    "import matplotlib.pyplot as plt\n",
    "from sklearn.neighbors import KernelDensity\n",
    "from scipy import stats\n",
    "import pandas as pd"
   ]
  },
  {
   "cell_type": "code",
   "execution_count": null,
   "id": "square-field",
   "metadata": {},
   "outputs": [],
   "source": [
    "FIG_DIM = 5\n",
    "DPI = 300\n",
    "AX_FONT = 14\n",
    "TICK_FONT = 12"
   ]
  },
  {
   "cell_type": "code",
   "execution_count": null,
   "id": "corporate-makeup",
   "metadata": {},
   "outputs": [],
   "source": []
  },
  {
   "cell_type": "code",
   "execution_count": null,
   "id": "comic-billion",
   "metadata": {},
   "outputs": [],
   "source": [
    "def getKernelDensityAll(data, species_info, measure,selection_data = None, selection_key = None,weights_key=None, min_val = 0, \n",
    "                     max_val = 1,n_steps=1000):\n",
    "    lines = {}\n",
    "    for key in species_info['Sample ID']:\n",
    "        print(key)\n",
    "        values = data[key][measure]\n",
    "        if selection_key:\n",
    "            selection_ids = selection_data[key][selection_key]\n",
    "        else: \n",
    "            selection_ids = np.arange(len(values))\n",
    "        \n",
    "        values = values[selection_ids]\n",
    "        if weights_key:\n",
    "            weight = data[key][weights_key]\n",
    "            weight = weight[selection_ids]\n",
    "        else: \n",
    "            weight = None\n",
    "        \n",
    "        kde = getKernelDensityEstimator(values, weight)\n",
    "        test_vals = np.linspace(min_val, max_val, n_steps)\n",
    "        pdf = kde(test_vals)\n",
    "        lines[key] = pdf\n",
    "    return lines, [min_val, max_val, n_steps]\n",
    "\n",
    "def getKernelDensityEstimator(values, weights):\n",
    "    nparam_density = stats.kde.gaussian_kde(values,weights = weights)\n",
    "    return nparam_density\n",
    "    \n",
    "def getLikelyPerSpecies(lines, species_info):\n",
    "    specs = ['bifurcata', 'cytherea', 'hyacinthus']\n",
    "    species_relevant = [species_info[species_info['Morphospecies'] == spec]['Sample ID'].values for spec in specs]\n",
    "    results  = {}\n",
    "    for x in range(3):\n",
    "        IDS = species_relevant[x]\n",
    "        vals = np.zeros((len(IDS),len(lines[IDS[0]])))\n",
    "        for i,sp in enumerate(IDS):\n",
    "            vals[i] = lines[sp]\n",
    "        results[specs[x]] = {\n",
    "            'mean': np.mean(vals, axis = 0),\n",
    "            'SD': np.std(vals, axis = 0)\n",
    "        }\n",
    "    return results\n",
    "\n",
    "def plotKDE(lines, rang,species_info, xlabel,xlim=None):\n",
    "    if xlim == None:\n",
    "        xlim = (rang[0], rang[1])\n",
    "    per_spec = getLikelyPerSpecies(lines, species_info)\n",
    "    x = np.linspace(rang[0], rang[1], rang[2])\n",
    "    colors = {'bifurcata':'#1f77b4', 'cytherea':'#2ca02c','hyacinthus':'#ff7f0e'}\n",
    "\n",
    "    fig = plt.figure(figsize=(5,5))\n",
    "    for key in per_spec:\n",
    "        data = per_spec[key]\n",
    "        plt.plot(x,data['mean'], color = colors[key], label = key)\n",
    "        plt.fill_between(x, data['mean'] - data['SD'], data['mean']+ data['SD'],\n",
    "                        alpha = .2, color = colors[key])\n",
    "    plt.xlabel(xlabel, fontsize=AX_FONT)\n",
    "    plt.ylabel('density', fontsize = AX_FONT)\n",
    "    plt.legend(fontsize = AX_FONT)\n",
    "    plt.tick_params(axis='both', which='major', labelsize=TICK_FONT)\n",
    "    plt.grid()\n",
    "    plt.xlim(xlim)\n",
    "    plt.ylim(0)\n",
    "    plt.tight_layout()\n",
    "    return fig\n",
    "\n"
   ]
  },
  {
   "cell_type": "code",
   "execution_count": null,
   "id": "chubby-discipline",
   "metadata": {},
   "outputs": [],
   "source": [
    "species_info = pd.read_csv(f'{ldir.DIR_DATA}/species_info_v1.csv')\n",
    "da_measures = load_data.readPickle('curvatures.pickle')"
   ]
  },
  {
   "cell_type": "markdown",
   "id": "million-india",
   "metadata": {},
   "source": [
    "# Example"
   ]
  },
  {
   "cell_type": "code",
   "execution_count": null,
   "id": "grand-rebate",
   "metadata": {},
   "outputs": [],
   "source": [
    "sphere_data = load_data.readPickle('spheres_angles.pickle')\n",
    "lines, rang = getKernelDensityAll(sphere_data, species_info, 'da',max_val = 1.7)\n"
   ]
  },
  {
   "cell_type": "code",
   "execution_count": null,
   "id": "preliminary-battle",
   "metadata": {},
   "outputs": [],
   "source": [
    "plotKDE(lines, rang, species_info, xlabel = f'da(cm)')\n"
   ]
  }
 ],
 "metadata": {
  "kernelspec": {
   "display_name": "Python 3",
   "language": "python",
   "name": "python3"
  },
  "language_info": {
   "codemirror_mode": {
    "name": "ipython",
    "version": 3
   },
   "file_extension": ".py",
   "mimetype": "text/x-python",
   "name": "python",
   "nbconvert_exporter": "python",
   "pygments_lexer": "ipython3",
   "version": "3.8.10"
  }
 },
 "nbformat": 4,
 "nbformat_minor": 5
}
