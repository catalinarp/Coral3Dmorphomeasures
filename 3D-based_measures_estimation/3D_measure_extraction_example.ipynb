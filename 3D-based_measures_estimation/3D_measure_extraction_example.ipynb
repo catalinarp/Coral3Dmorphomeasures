{
 "cells": [
  {
   "cell_type": "markdown",
   "id": "tutorial-sellers",
   "metadata": {},
   "source": [
    "# 3D based measure extraction\n",
    "\n",
    "This notebook provides an example how the measures as described in [1] can be extracted from a polygon mesh (.vtk) with the provided software in this folder. "
   ]
  },
  {
   "cell_type": "code",
   "execution_count": 1,
   "id": "serial-undergraduate",
   "metadata": {},
   "outputs": [],
   "source": [
    "from helpers import load_data, stats\n",
    "import matplotlib.pyplot as plt\n",
    "\n",
    "coral_name = '15Oki03'\n",
    "polygon_mesh = load_data.readVTK(coral_name)"
   ]
  },
  {
   "cell_type": "markdown",
   "id": "aquatic-thirty",
   "metadata": {},
   "source": [
    "## Polygon mesh-based measures\n",
    "\n",
    "From the polygon mesh the surface-area-to-volume ratio ($S/V$-ratio) and sphericity ($\\phi$) are derived as single variables. In addition, surface curvature measures are obtained per vertex."
   ]
  },
  {
   "cell_type": "code",
   "execution_count": 2,
   "id": "veterinary-struggle",
   "metadata": {},
   "outputs": [],
   "source": [
    "from polygon_mesh_based import surface_volume, curvature"
   ]
  },
  {
   "cell_type": "markdown",
   "id": "molecular-subject",
   "metadata": {},
   "source": [
    "### $S/V$-ratio and $\\phi$"
   ]
  },
  {
   "cell_type": "code",
   "execution_count": 3,
   "id": "printable-iceland",
   "metadata": {},
   "outputs": [
    {
     "name": "stdout",
     "output_type": "stream",
     "text": [
      "S/V-ratio:   6.908932889384034\n",
      "sphericity:  0.2132708411579287\n"
     ]
    }
   ],
   "source": [
    "surf_vol_measures = surface_volume.getSurfaceVolumeMeasures(polygon_mesh)\n",
    "\n",
    "print(f\"S/V-ratio:   {surf_vol_measures['SV_ratio']}\")\n",
    "print(f\"sphericity:  {surf_vol_measures['sphericity']}\")"
   ]
  },
  {
   "cell_type": "markdown",
   "id": "artistic-aurora",
   "metadata": {},
   "source": [
    "### Curvature"
   ]
  },
  {
   "cell_type": "code",
   "execution_count": 4,
   "id": "complimentary-blake",
   "metadata": {},
   "outputs": [
    {
     "name": "stdout",
     "output_type": "stream",
     "text": [
      "0\n",
      "100000\n",
      "200000\n",
      "300000\n",
      "400000\n",
      "500000\n",
      "600000\n",
      "700000\n",
      "800000\n",
      "900000\n",
      "1000000\n",
      "1100000\n",
      "1200000\n",
      "1300000\n",
      "1400000\n",
      "1500000\n"
     ]
    }
   ],
   "source": [
    "# obtain curvature values\n",
    "curvature_measures = curvature.getCurvature(polygon_mesh)"
   ]
  },
  {
   "cell_type": "code",
   "execution_count": 8,
   "id": "assigned-sharing",
   "metadata": {},
   "outputs": [
    {
     "name": "stdout",
     "output_type": "stream",
     "text": [
      "K:  [ 21.9078511   17.03902535  -8.15663642 ... 377.07331545  59.23585971\n",
      " -67.85954884]\n",
      "H:  [  5.11518797   4.40376912  -0.44229446 ...  23.55604207 -10.23248839\n",
      "  -2.07672672]\n",
      "k1: [ 7.17850978  5.93809539  2.44773337 ... 36.89072626 -3.48949507\n",
      "  6.41870398]\n",
      "k2: [  3.05186616   2.86944285  -3.33232228 ...  10.22135788 -16.97548172\n",
      " -10.57215741]\n"
     ]
    }
   ],
   "source": [
    "# print curvature arrays\n",
    "print(f\"K:  {curvature_measures['Gauss']}\")\n",
    "print(f\"H:  {curvature_measures['Mean']}\")\n",
    "print(f\"k1: {curvature_measures['Maximum']}\")\n",
    "print(f\"k2: {curvature_measures['Minimum']}\")"
   ]
  },
  {
   "cell_type": "code",
   "execution_count": 14,
   "id": "facial-excuse",
   "metadata": {},
   "outputs": [
    {
     "data": {
      "image/png": "[encoded data removed]",
      "text/plain": [
       "<Figure size 576x504 with 1 Axes>"
      ]
     },
     "metadata": {
      "needs_background": "light"
     },
     "output_type": "display_data"
    }
   ],
   "source": [
    "# get distribution characteristics (example Gaussian curvature)\n",
    "example_data = curvature_measures['Gauss']\n",
    "\n",
    "# plot distribution\n",
    "plt.figure(figsize=(8,7))\n",
    "plt.grid()\n",
    "plt.hist(example_data, bins = 200, density=True, range = (-400,400),weights=curvature_measures['areas'])\n",
    "plt.xlim((-400,400))\n",
    "plt.xlabel(r'$K$ ($cm^{-2}$)')\n",
    "plt.ylabel('fraction of surface')\n",
    "plt.show()"
   ]
  },
  {
   "cell_type": "code",
   "execution_count": 7,
   "id": "interracial-sarah",
   "metadata": {},
   "outputs": [
    {
     "name": "stdout",
     "output_type": "stream",
     "text": [
      "{'mean': -16.82538485970925, 'variance': 67776.05691868407, 'skewness': 1.2184566215432033, 'kurtosis': 9.266855618628416}\n",
      "K_mean: -16.82538485970925\n",
      "K_var:  67776.05691868407\n",
      "K_skew: 1.2184566215432033\n",
      "K_kurt: 9.266855618628416\n"
     ]
    }
   ],
   "source": [
    "# distribution characteristics\n",
    "distr = stats.getDistributionCharactertics(example_data, weighted=True, weights = curvature_measures['areas'])\n",
    "print(distr)\n",
    "print(f\"K_mean: {distr['mean']}\")\n",
    "print(f\"K_var:  {distr['variance']}\")\n",
    "print(f\"K_skew: {distr['skewness']}\")\n",
    "print(f\"K_kurt: {distr['kurtosis']}\")"
   ]
  },
  {
   "cell_type": "markdown",
   "id": "religious-patrick",
   "metadata": {},
   "source": [
    "## Medial axis skeleton-derived measures "
   ]
  },
  {
   "cell_type": "markdown",
   "id": "celtic-circuit",
   "metadata": {},
   "source": [
    "### Skeletonization\n",
    "First the polygon mesh is transformed into a medial axis skeleton. First the mesh is smoothened"
   ]
  }
 ],
 "metadata": {
  "kernelspec": {
   "display_name": "Python 3",
   "language": "python",
   "name": "python3"
  },
  "language_info": {
   "codemirror_mode": {
    "name": "ipython",
    "version": 3
   },
   "file_extension": ".py",
   "mimetype": "text/x-python",
   "name": "python",
   "nbconvert_exporter": "python",
   "pygments_lexer": "ipython3",
   "version": "3.8.10"
  }
 },
 "nbformat": 4,
 "nbformat_minor": 5
}
